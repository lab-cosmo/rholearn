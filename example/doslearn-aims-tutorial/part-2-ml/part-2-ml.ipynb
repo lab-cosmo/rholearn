{
 "cells": [
  {
   "cell_type": "code",
   "execution_count": null,
   "metadata": {},
   "outputs": [],
   "source": [
    "import numpy as np\n",
    "import matplotlib.pyplot as plt\n",
    "import ase\n",
    "import ase.io\n",
    "import ase.visualize\n",
    "from rholearn.options import get_options\n",
    "from rholearn.rholearn import train_utils as rho_train_utils\n",
    "from rholearn.utils import io, system"
   ]
  },
  {
   "cell_type": "markdown",
   "metadata": {},
   "source": [
    "## Initialization"
   ]
  },
  {
   "cell_type": "code",
   "execution_count": null,
   "metadata": {},
   "outputs": [],
   "source": [
    "dft_options = get_options(\"dft\", \"doslearn\")\n",
    "ml_options = get_options(\"ml\", \"doslearn\")\n",
    "if dft_options.get(\"IDX_SUBSET\") is not None:\n",
    "        frame_idxs = dft_options.get(\"IDX_SUBSET\")\n",
    "else:\n",
    "    frame_idxs = None\n",
    "\n",
    "all_frames = system.read_frames_from_xyz(dft_options[\"XYZ\"], frame_idxs)\\\n",
    "\n",
    "if frame_idxs is None:\n",
    "        frame_idxs = list(range(len(all_frames)))\n",
    "\n",
    "_, _, test_id = (\n",
    "        rho_train_utils.crossval_idx_split(  # cross-validation split of idxs\n",
    "            frame_idxs=frame_idxs,\n",
    "            n_train=ml_options[\"N_TRAIN\"],\n",
    "            n_val=ml_options[\"N_VAL\"],\n",
    "            n_test=ml_options[\"N_TEST\"],\n",
    "            seed=ml_options[\"SEED\"],\n",
    "        )\n",
    "    )\n"
   ]
  },
  {
   "cell_type": "code",
   "execution_count": null,
   "metadata": {},
   "outputs": [],
   "source": [
    "max_energy = dft_options[\"DOS_SPLINES\"][\"max_energy\"] - ml_options[\"TARGET_DOS\"][\"max_energy_buffer\"]\n",
    "min_energy = dft_options[\"DOS_SPLINES\"][\"min_energy\"]\n",
    "interval = dft_options[\"DOS_SPLINES\"][\"interval\"]\n",
    "\n",
    "n_grid_points = int(np.ceil((max_energy - min_energy) \\\n",
    "                / interval))\n",
    "x_dos = min_energy + np.arange(n_grid_points) * interval\n"
   ]
  },
  {
   "cell_type": "markdown",
   "metadata": {},
   "source": [
    "## Test Statistics"
   ]
  },
  {
   "cell_type": "code",
   "execution_count": null,
   "metadata": {},
   "outputs": [],
   "source": [
    "test_mse = np.load('./evaluation/epoch_best/Test/test_MSEs.npy')\n",
    "test_emse = np.load('./evaluation/epoch_best/Test/test_eMSEs.npy')\n",
    "\n",
    "print (\"Test Statistics\")\n",
    "print (\"RMSE: \", f'{np.sqrt(np.mean(test_mse)):.5}')\n",
    "plt.title(\"Test Energywise MSE\")\n",
    "plt.plot(x_dos, test_emse)\n",
    "plt.xlabel(\"Energy (eV)\")\n",
    "plt.ylabel(\"MSE\")"
   ]
  },
  {
   "cell_type": "markdown",
   "metadata": {},
   "source": [
    "## Inspecting highest error prediction"
   ]
  },
  {
   "cell_type": "code",
   "execution_count": null,
   "metadata": {},
   "outputs": [],
   "source": [
    "max_index = test_id[np.argmax(test_mse)]\n",
    "\n",
    "# Load prediction and target\n",
    "\n",
    "prediction = np.load(f'./evaluation/epoch_best/{max_index}/normalized_prediction.npy')\n",
    "target = np.load(f'./evaluation/epoch_best/{max_index}/aligned_target.npy')\n",
    "\n",
    "plt.plot(x_dos, prediction, color = 'red' , label = 'Prediction')\n",
    "plt.plot(x_dos, target, color = 'blue', label = 'Target')\n",
    "plt.legend()\n",
    "plt.title(\"Prediction with highest error\")\n",
    "plt.xlabel(\"Energy (eV)\")\n",
    "plt.ylabel(\"DOS\")"
   ]
  },
  {
   "cell_type": "code",
   "execution_count": null,
   "metadata": {},
   "outputs": [],
   "source": []
  }
 ],
 "metadata": {
  "kernelspec": {
   "display_name": "rholearn",
   "language": "python",
   "name": "python3"
  },
  "language_info": {
   "codemirror_mode": {
    "name": "ipython",
    "version": 3
   },
   "file_extension": ".py",
   "mimetype": "text/x-python",
   "name": "python",
   "nbconvert_exporter": "python",
   "pygments_lexer": "ipython3",
   "version": "3.12.8"
  }
 },
 "nbformat": 4,
 "nbformat_minor": 2
}
