{
 "cells": [
  {
   "cell_type": "markdown",
   "metadata": {},
   "source": [
    "# Part 1: Generating data with `FHI-aims` (supporting notebook)"
   ]
  },
  {
   "cell_type": "code",
   "execution_count": null,
   "metadata": {},
   "outputs": [],
   "source": [
    "from os.path import exists, join\n",
    "import chemiscope\n",
    " \n",
    "from rholearn.utils import system\n",
    "from rholearn.utils.io import unpickle_dict\n",
    "from rholearn.options import get_options\n",
    "\n",
    "dft_options = get_options(\"dft\", \"doslearn\")\n",
    "dft_options"
   ]
  },
  {
   "cell_type": "code",
   "execution_count": null,
   "metadata": {},
   "outputs": [],
   "source": [
    "# Display the nuclear geometries with chemiscope\n",
    "frames = system.read_frames_from_xyz(dft_options[\"XYZ\"])\n",
    "frame_idxs = range(len(frames))\n",
    "chemiscope.show(system.chemfiles_frame_to_ase_frame(frames), mode=\"structure\")"
   ]
  },
  {
   "cell_type": "markdown",
   "metadata": {},
   "source": [
    "## 1.2: Converge SCF"
   ]
  },
  {
   "cell_type": "code",
   "execution_count": 6,
   "metadata": {},
   "outputs": [],
   "source": [
    "# Check all SCF calculations have converged\n",
    "scf_dir = lambda A: f\"data/raw/{A}\"\n",
    "\n",
    "not_conv = []\n",
    "for A in frame_idxs:\n",
    "    path = join(scf_dir(A), \"aims.out\")\n",
    "    if not exists(path):\n",
    "        not_conv.append(A)\n",
    "    else:\n",
    "        with open(path, \"r\") as f:\n",
    "            if \"Have a nice day.\" not in f.read():\n",
    "                not_conv.append(A)\n",
    "\n",
    "assert len(not_conv) == 0, f\"SCF not converged for {not_conv}\""
   ]
  },
  {
   "cell_type": "code",
   "execution_count": 7,
   "metadata": {},
   "outputs": [],
   "source": [
    "# Confirm again all SCF calculations have converged via the parsed aims.out files\n",
    "for A in frame_idxs:\n",
    "    calc_info = unpickle_dict(join(scf_dir(A), \"calc_info.pickle\"))\n",
    "    assert calc_info[\"scf\"][\"converged\"]"
   ]
  }
 ],
 "metadata": {
  "kernelspec": {
   "display_name": "rho",
   "language": "python",
   "name": "python3"
  },
  "language_info": {
   "codemirror_mode": {
    "name": "ipython",
    "version": 3
   },
   "file_extension": ".py",
   "mimetype": "text/x-python",
   "name": "python",
   "nbconvert_exporter": "python",
   "pygments_lexer": "ipython3",
   "version": "3.11.0"
  }
 },
 "nbformat": 4,
 "nbformat_minor": 2
}
