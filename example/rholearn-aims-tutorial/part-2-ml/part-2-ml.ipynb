{
 "cells": [
  {
   "cell_type": "markdown",
   "metadata": {},
   "source": [
    "# Part 2: Training a surrogate model with `rholearn` (supporting notebook)"
   ]
  },
  {
   "cell_type": "code",
   "execution_count": 1,
   "metadata": {},
   "outputs": [],
   "source": [
    "import torch\n",
    "\n",
    "from rholearn.utils import cube, system\n",
    "from rholearn.utils.io import unpickle_dict"
   ]
  },
  {
   "cell_type": "markdown",
   "metadata": {},
   "source": [
    "## 2.3: Train a model"
   ]
  },
  {
   "cell_type": "code",
   "execution_count": null,
   "metadata": {},
   "outputs": [],
   "source": [
    "# Inspect the cross-validation splits of idxs\n",
    "idxs = unpickle_dict(\"output/crossval_idxs.pickle\")\n",
    "idxs"
   ]
  },
  {
   "cell_type": "markdown",
   "metadata": {},
   "source": [
    "**Run these cells after training is complete**"
   ]
  },
  {
   "cell_type": "code",
   "execution_count": null,
   "metadata": {},
   "outputs": [],
   "source": [
    "from dft_settings import XYZ\n",
    "\n",
    "# Load frames\n",
    "frames = system.read_frames_from_xyz(XYZ)\n",
    "\n",
    "# Load a model checkpoint\n",
    "model = torch.load(\"checkpoint/epoch_best/model.pt\")"
   ]
  },
  {
   "cell_type": "code",
   "execution_count": null,
   "metadata": {},
   "outputs": [],
   "source": [
    "# Make a prediction on coefficients for one of the test frames\n",
    "test_idx = idxs[\"test\"][0]\n",
    "test_frame = frames[test_idx]\n",
    "print(\"testIdx: \", test_idx)\n",
    "\n",
    "test_ml_coeffs = model.predict(frames=[test_frame], frame_idxs=[test_idx])\n",
    "test_ml_coeffs"
   ]
  },
  {
   "cell_type": "markdown",
   "metadata": {},
   "source": [
    "## 2.4: Evaluate the model"
   ]
  },
  {
   "cell_type": "code",
   "execution_count": null,
   "metadata": {},
   "outputs": [],
   "source": [
    "# WARNING: execute with care! \n",
    "# Display the electron density volumetric data. This relies on py3Dmol, which is often\n",
    "# unreliable in jupyter notebooks. Better to use another external software, such as\n",
    "# VESTA.\n",
    "\n",
    "# Calculate and display the delta electron density (i.e. ML error) of one of the test structures\n",
    "\n",
    "# Load the cube files for the ML prediction and SCF reference\n",
    "rhocube_scf = cube.RhoCube(\n",
    "    f\"../part-1-dft/data/raw/{test_idx}/cube_001_total_density.cube\"\n",
    ")\n",
    "rhocube_ml = cube.RhoCube(\n",
    "    f\"evaluation/epoch_best/{test_idx}/cube_001_total_density.cube\"\n",
    ")\n",
    "\n",
    "# Show the SCF density\n",
    "rhocube_ml.show_volumetric(isovalue=0.02)\n",
    "\n",
    "# Create the delta density cube - (ML - SCF)\n",
    "rhocube_ml.data -= rhocube_scf.data\n",
    "\n",
    "# Write to a new cube file\n",
    "delta_path = f\"evaluation/epoch_best/{test_idx}/cube_delta_ml_scf.cube\"\n",
    "rhocube_ml.write_cube(delta_path)\n",
    "\n",
    "# Show delta density\n",
    "rhocube_delta = cube.RhoCube(delta_path)\n",
    "rhocube_delta.show_volumetric(isovalue=0.02)"
   ]
  },
  {
   "cell_type": "code",
   "execution_count": null,
   "metadata": {},
   "outputs": [],
   "source": []
  }
 ],
 "metadata": {
  "kernelspec": {
   "display_name": "Python 3",
   "language": "python",
   "name": "python3"
  },
  "language_info": {
   "codemirror_mode": {
    "name": "ipython",
    "version": 3
   },
   "file_extension": ".py",
   "mimetype": "text/x-python",
   "name": "python",
   "nbconvert_exporter": "python",
   "pygments_lexer": "ipython3",
   "version": "3.11.0"
  }
 },
 "nbformat": 4,
 "nbformat_minor": 2
}
