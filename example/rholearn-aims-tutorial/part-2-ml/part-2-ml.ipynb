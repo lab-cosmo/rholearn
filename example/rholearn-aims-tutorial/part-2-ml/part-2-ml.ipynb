{
 "cells": [
  {
   "cell_type": "markdown",
   "metadata": {},
   "source": [
    "# Part 2: Training a surrogate model with `rholearn` (supporting notebook)"
   ]
  },
  {
   "cell_type": "code",
   "execution_count": null,
   "metadata": {},
   "outputs": [],
   "source": [
    "import rholearn\n",
    "\n",
    "from dft_settings import DFT_SETTINGS\n",
    "from ml_settings import ML_SETTINGS\n",
    "from net import NET\n",
    "\n",
    "rholearn.train(DFT_SETTINGS, ML_SETTINGS, NET)"
   ]
  },
  {
   "cell_type": "code",
   "execution_count": null,
   "metadata": {},
   "outputs": [],
   "source": [
    "import rholearn\n",
    "\n",
    "import dft_settings\n",
    "import ml_settings\n",
    "import hpc_settings\n",
    "\n",
    "rholearn.eval(\n",
    "    dft_settings.DFT_SETTINGS, ml_settings.ML_SETTINGS, hpc_settings.HPC_SETTINGS\n",
    ")"
   ]
  },
  {
   "cell_type": "code",
   "execution_count": null,
   "metadata": {},
   "outputs": [],
   "source": [
    "import torch\n",
    "\n",
    "from rholearn.model import RhoModel\n",
    "from rholearn.utils import system\n",
    "\n",
    "\n",
    "model = RhoModel(\n",
    "    target_basis=TARGET_BASIS,\n",
    "    spherical_expansion_hypers=SPHERICAL_EXPANSION_HYPERS,\n",
    "    net=NET,\n",
    ")\n",
    "model"
   ]
  },
  {
   "cell_type": "code",
   "execution_count": 8,
   "metadata": {},
   "outputs": [],
   "source": [
    "# Dataset\n",
    "from rholearn import train_utils\n",
    "\n",
    "dataset = train_utils.get_dataset(\n",
    "    FRAMES, FRAME_IDXS, model, TRAIN_DATA_NAMES, PROCESSED_DIR, OVERLAP_CUTOFF, **TORCH,\n",
    ")"
   ]
  },
  {
   "cell_type": "code",
   "execution_count": 9,
   "metadata": {},
   "outputs": [],
   "source": [
    "dataloader = train_utils.get_dataloader(\n",
    "    dataset,\n",
    "    dloader_kwargs={\"batch_size\": 10, \"shuffle\": True},\n",
    ")"
   ]
  },
  {
   "cell_type": "code",
   "execution_count": 10,
   "metadata": {},
   "outputs": [],
   "source": [
    "batch = next(iter(dataloader))\n",
    "batch.target_c"
   ]
  },
  {
   "cell_type": "code",
   "execution_count": null,
   "metadata": {},
   "outputs": [],
   "source": [
    "batch.sample_id"
   ]
  },
  {
   "cell_type": "code",
   "execution_count": null,
   "metadata": {},
   "outputs": [],
   "source": [
    "from rholearn.utils import convert\n",
    "\n",
    "input_c = model(  # forward pass\n",
    "    frames=batch.frame,\n",
    "    frame_idxs=batch.sample_id,\n",
    "    descriptor=batch.descriptor,\n",
    "    split_by_frame=False,\n",
    "    check_metadata=True,\n",
    ")\n",
    "input_c = convert.coeff_vector_to_sparse_by_center_type(input_c, backend=\"torch\")\n",
    "input_c[0].samples"
   ]
  },
  {
   "cell_type": "code",
   "execution_count": null,
   "metadata": {},
   "outputs": [],
   "source": [
    "batch.descriptor[0].samples"
   ]
  },
  {
   "cell_type": "code",
   "execution_count": null,
   "metadata": {},
   "outputs": [],
   "source": [
    "import metatensor.torch as mts\n",
    "from rholearn.loss import RhoLoss\n",
    "from rholearn.utils import convert\n",
    "\n",
    "RhoLoss(\n",
    "    # normalized=False,\n",
    "    orthogonal=False,\n",
    "    # truncated=True,\n",
    ")(\n",
    "    input_c=input_c,\n",
    "    target_c=batch.target_c,\n",
    "    target_w=batch.target_w,\n",
    "    overlap=batch.overlap,\n",
    "    check_metadata=False,\n",
    ")"
   ]
  },
  {
   "cell_type": "code",
   "execution_count": null,
   "metadata": {},
   "outputs": [],
   "source": [
    "import metatensor.torch as mts\n",
    "\n",
    "batch.target_c[0].samples.values[:10], input_c[0].samples.values[:10]"
   ]
  },
  {
   "cell_type": "code",
   "execution_count": null,
   "metadata": {},
   "outputs": [],
   "source": [
    "input_c[0].samples"
   ]
  },
  {
   "cell_type": "code",
   "execution_count": null,
   "metadata": {},
   "outputs": [],
   "source": [
    "from rholearn.utils import convert\n",
    "\n",
    "convert.coeff_vector_to_sparse_by_center_type(input_c, backend=\"torch\")"
   ]
  },
  {
   "cell_type": "code",
   "execution_count": null,
   "metadata": {},
   "outputs": [],
   "source": [
    "len(batch.overlap[0].samples)"
   ]
  },
  {
   "cell_type": "code",
   "execution_count": null,
   "metadata": {},
   "outputs": [],
   "source": [
    "import numpy as np\n",
    "\n",
    "train_utils.crossval_idx_split(np.arange(100), 50, 40, 10)"
   ]
  },
  {
   "cell_type": "code",
   "execution_count": null,
   "metadata": {},
   "outputs": [],
   "source": []
  }
 ],
 "metadata": {
  "kernelspec": {
   "display_name": "Python 3",
   "language": "python",
   "name": "python3"
  },
  "language_info": {
   "codemirror_mode": {
    "name": "ipython",
    "version": 3
   },
   "file_extension": ".py",
   "mimetype": "text/x-python",
   "name": "python",
   "nbconvert_exporter": "python",
   "pygments_lexer": "ipython3",
   "version": "3.11.10"
  }
 },
 "nbformat": 4,
 "nbformat_minor": 2
}
